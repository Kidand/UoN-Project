{
 "cells": [
  {
   "cell_type": "markdown",
   "source": [
    "# 3D nii to 2D png"
   ],
   "metadata": {
    "collapsed": false
   }
  },
  {
   "cell_type": "code",
   "execution_count": 2,
   "outputs": [],
   "source": [
    "import numpy as np\n",
    "import os\n",
    "from PIL import Image\n",
    "import nibabel as nib\n",
    "\n",
    "def nii2png(niifile, outdir):\n",
    "    img = nib.load(niifile)\n",
    "    data = img.get_fdata()\n",
    "\n",
    "    min_val = data.min()\n",
    "    max_val = data.max()\n",
    "    scale = 255.0 / (max_val - min_val)\n",
    "\n",
    "    for i in range(data.shape[2]):\n",
    "        slice = data[:, :, i]\n",
    "        slice = (slice - min_val) * scale\n",
    "        slice = slice.astype(np.uint8)\n",
    "        slice = Image.fromarray(slice, 'L')\n",
    "        slice.save(os.path.join(outdir, f'{i}.png'))\n",
    "\n",
    "    # Save scaling information for later use\n",
    "    with open(os.path.join(outdir, 'scale_info.txt'), 'w') as f:\n",
    "        f.write(f\"{min_val}\\n{max_val}\\n\")\n",
    "\n",
    "    # Save the affine matrix\n",
    "    affine = img.affine\n",
    "    np.savetxt(os.path.join(outdir, 'affine_matrix.txt'), affine)\n",
    "\n",
    "def png2nii(pngdir, outfile):\n",
    "    files = [f for f in os.listdir(pngdir) if f.endswith('.png')]\n",
    "    files.sort(key=lambda x: int(x[:-4]))\n",
    "    slices = []\n",
    "    for file in files:\n",
    "        slice = np.array(Image.open(os.path.join(pngdir, file)))\n",
    "        slices.append(slice)\n",
    "\n",
    "    # Retrieve scaling information\n",
    "    with open(os.path.join(pngdir, 'scale_info.txt'), 'r') as f:\n",
    "        min_val, max_val = [float(line.strip()) for line in f]\n",
    "    scale = 255.0 / (max_val - min_val)\n",
    "\n",
    "    slices = np.array(slices)\n",
    "    slices = (slices / scale) + min_val\n",
    "\n",
    "    # Reorder the dimensions to match the original NIfTI file\n",
    "    slices = np.transpose(slices, (1, 2, 0))\n",
    "\n",
    "    # Load the affine matrix\n",
    "    affine = np.loadtxt(os.path.join(pngdir, 'affine_matrix.txt'))\n",
    "\n",
    "    img = nib.Nifti1Image(slices, affine)\n",
    "    nib.save(img, outfile)\n"
   ],
   "metadata": {
    "collapsed": false,
    "ExecuteTime": {
     "end_time": "2023-08-30T11:07:59.277958Z",
     "start_time": "2023-08-30T11:07:58.831572Z"
    }
   }
  },
  {
   "cell_type": "markdown",
   "source": [
    "# test nii2png and png2nii"
   ],
   "metadata": {
    "collapsed": false
   }
  },
  {
   "cell_type": "code",
   "execution_count": 4,
   "outputs": [],
   "source": [
    "nii2png('./images/00001_AN001_V1_WIP RARE_baseline_7_analyze75.nii', './test/nii2png/test1')\n",
    "png2nii('./test/nii2png/test1', './test/png2nii/temp.nii')"
   ],
   "metadata": {
    "collapsed": false,
    "ExecuteTime": {
     "end_time": "2023-08-30T11:08:53.133078Z",
     "start_time": "2023-08-30T11:08:52.534317Z"
    }
   }
  },
  {
   "cell_type": "code",
   "execution_count": 5,
   "outputs": [
    {
     "name": "stdout",
     "output_type": "stream",
     "text": [
      "(512, 512, 20)\n",
      "(512, 512, 20)\n"
     ]
    }
   ],
   "source": [
    "# 比较生成的nii和原始nii\n",
    "img1 = nib.load('./images/00001_AN001_V1_WIP RARE_baseline_7_analyze75.nii')\n",
    "img2 = nib.load('./test/png2nii/temp.nii')\n",
    "data1 = img1.get_fdata()\n",
    "data2 = img2.get_fdata()\n",
    "print(data1.shape)\n",
    "print(data2.shape)"
   ],
   "metadata": {
    "collapsed": false,
    "ExecuteTime": {
     "end_time": "2023-08-30T11:08:54.845165Z",
     "start_time": "2023-08-30T11:08:54.819849Z"
    }
   }
  },
  {
   "cell_type": "code",
   "execution_count": 6,
   "outputs": [],
   "source": [
    "nii2png('./dataset/1.5T-GE/imagesTr/data_001_0000.nii.gz', './test/nii2png/test_ge')\n",
    "png2nii('./test/nii2png/test_ge', './test/png2nii/test_ge.nii')"
   ],
   "metadata": {
    "collapsed": false,
    "ExecuteTime": {
     "end_time": "2023-08-30T11:08:57.244882Z",
     "start_time": "2023-08-30T11:08:56.392073Z"
    }
   }
  },
  {
   "cell_type": "code",
   "execution_count": 7,
   "outputs": [
    {
     "name": "stdout",
     "output_type": "stream",
     "text": [
      "(512, 512, 32)\n",
      "(512, 512, 32)\n"
     ]
    }
   ],
   "source": [
    "img1 = nib.load('./dataset/1.5T-GE/imagesTr/data_001_0000.nii.gz')\n",
    "img2 = nib.load('./test/png2nii/test_ge.nii')\n",
    "data1 = img1.get_fdata()\n",
    "data2 = img2.get_fdata()\n",
    "print(data1.shape)\n",
    "print(data2.shape)"
   ],
   "metadata": {
    "collapsed": false,
    "ExecuteTime": {
     "end_time": "2023-08-30T11:09:45.650647Z",
     "start_time": "2023-08-30T11:09:45.557829Z"
    }
   }
  },
  {
   "cell_type": "code",
   "execution_count": 8,
   "outputs": [],
   "source": [
    "nii2png('./dataset/1.5T-Phillips/imagesTr/data_001_0000.nii.gz', './test/nii2png/test_phillips')\n",
    "png2nii('./test/nii2png/test_phillips', './test/png2nii/test_phillips.nii')"
   ],
   "metadata": {
    "collapsed": false,
    "ExecuteTime": {
     "end_time": "2023-08-30T11:11:02.947187Z",
     "start_time": "2023-08-30T11:11:02.151555Z"
    }
   }
  },
  {
   "cell_type": "code",
   "execution_count": 9,
   "outputs": [
    {
     "name": "stdout",
     "output_type": "stream",
     "text": [
      "(512, 512, 24)\n",
      "(512, 512, 24)\n"
     ]
    }
   ],
   "source": [
    "img1 = nib.load('./dataset/1.5T-Phillips/imagesTr/data_001_0000.nii.gz')\n",
    "img2 = nib.load('./test/png2nii/test_phillips.nii')\n",
    "data1 = img1.get_fdata()\n",
    "data2 = img2.get_fdata()\n",
    "print(data1.shape)\n",
    "print(data2.shape)"
   ],
   "metadata": {
    "collapsed": false,
    "ExecuteTime": {
     "end_time": "2023-08-30T11:11:19.034893Z",
     "start_time": "2023-08-30T11:11:18.946281Z"
    }
   }
  },
  {
   "cell_type": "code",
   "execution_count": 10,
   "outputs": [],
   "source": [
    "nii2png('./dataset/3T-Achieva/imagesTr/data_001_0000.nii.gz', './test/nii2png/test_achieva')\n",
    "png2nii('./test/nii2png/test_achieva', './test/png2nii/test_achieva.nii')"
   ],
   "metadata": {
    "collapsed": false,
    "ExecuteTime": {
     "end_time": "2023-08-30T11:13:30.201949Z",
     "start_time": "2023-08-30T11:13:29.548405Z"
    }
   }
  },
  {
   "cell_type": "code",
   "execution_count": 11,
   "outputs": [
    {
     "name": "stdout",
     "output_type": "stream",
     "text": [
      "(512, 512, 20)\n",
      "(512, 512, 20)\n"
     ]
    }
   ],
   "source": [
    "img1 = nib.load('./dataset/3T-Achieva/imagesTr/data_001_0000.nii.gz')\n",
    "img2 = nib.load('./test/png2nii/test_achieva.nii')\n",
    "data1 = img1.get_fdata()\n",
    "data2 = img2.get_fdata()\n",
    "print(data1.shape)\n",
    "print(data2.shape)"
   ],
   "metadata": {
    "collapsed": false,
    "ExecuteTime": {
     "end_time": "2023-08-30T11:13:44.831605Z",
     "start_time": "2023-08-30T11:13:44.755900Z"
    }
   }
  },
  {
   "cell_type": "code",
   "execution_count": 12,
   "outputs": [],
   "source": [
    "nii2png('./dataset/3T-Ingenia/imagesTr/data_001_0000.nii.gz', './test/nii2png/test_ingenia')\n",
    "png2nii('./test/nii2png/test_ingenia', './test/png2nii/test_ingenia.nii')"
   ],
   "metadata": {
    "collapsed": false,
    "ExecuteTime": {
     "end_time": "2023-08-30T11:16:01.185204Z",
     "start_time": "2023-08-30T11:16:00.427368Z"
    }
   }
  },
  {
   "cell_type": "code",
   "execution_count": 13,
   "outputs": [
    {
     "name": "stdout",
     "output_type": "stream",
     "text": [
      "(512, 512, 20)\n",
      "(512, 512, 20)\n"
     ]
    }
   ],
   "source": [
    "img1 = nib.load('./dataset/3T-Ingenia/imagesTr/data_001_0000.nii.gz')\n",
    "img2 = nib.load('./test/png2nii/test_ingenia.nii')\n",
    "data1 = img1.get_fdata()\n",
    "data2 = img2.get_fdata()\n",
    "print(data1.shape)\n",
    "print(data2.shape)"
   ],
   "metadata": {
    "collapsed": false,
    "ExecuteTime": {
     "end_time": "2023-08-30T11:16:17.323974Z",
     "start_time": "2023-08-30T11:16:17.243762Z"
    }
   }
  },
  {
   "cell_type": "markdown",
   "source": [
    "# batch nii2png and png2nii"
   ],
   "metadata": {
    "collapsed": false
   }
  },
  {
   "cell_type": "code",
   "execution_count": 21,
   "outputs": [],
   "source": [
    "import os\n",
    "\n",
    "def batch_nii2png(src_dir, dest_dir):\n",
    "    \"\"\"Convert all NIfTI files in src_dir to PNG sequences in dest_dir.\"\"\"\n",
    "    if not os.path.exists(dest_dir):\n",
    "        os.makedirs(dest_dir)\n",
    "\n",
    "    for filename in os.listdir(src_dir):\n",
    "        if filename.endswith(\".nii\"):\n",
    "            nii_path = os.path.join(src_dir, filename)\n",
    "            outdir = os.path.join(dest_dir, filename.split('.')[0])\n",
    "\n",
    "            if not os.path.exists(outdir):\n",
    "                os.makedirs(outdir)\n",
    "\n",
    "            nii2png(nii_path, outdir)\n",
    "\n",
    "def batch_png2nii(src_dir, dest_dir):\n",
    "    \"\"\"Convert all PNG sequences in src_dir to NIfTI files in dest_dir.\"\"\"\n",
    "    if not os.path.exists(dest_dir):\n",
    "        os.makedirs(dest_dir)\n",
    "\n",
    "    for folder in os.listdir(src_dir):\n",
    "        folder_path = os.path.join(src_dir, folder)\n",
    "        if os.path.isdir(folder_path):\n",
    "            nii_filename = folder + \".nii\"\n",
    "            nii_path = os.path.join(dest_dir, nii_filename)\n",
    "\n",
    "            png2nii(folder_path, nii_path)"
   ],
   "metadata": {
    "collapsed": false,
    "ExecuteTime": {
     "end_time": "2023-08-27T09:49:28.447928Z",
     "start_time": "2023-08-27T09:49:28.442008Z"
    }
   }
  },
  {
   "cell_type": "code",
   "execution_count": 22,
   "outputs": [],
   "source": [
    "# Example usage\n",
    "batch_nii2png('./images', './test/png_folder')\n",
    "batch_png2nii('./test/png_folder', './test/nii_folder')"
   ],
   "metadata": {
    "collapsed": false,
    "ExecuteTime": {
     "end_time": "2023-08-27T09:53:34.234466Z",
     "start_time": "2023-08-27T09:49:49.935998Z"
    }
   }
  },
  {
   "cell_type": "code",
   "execution_count": null,
   "outputs": [],
   "source": [],
   "metadata": {
    "collapsed": false
   }
  }
 ],
 "metadata": {
  "kernelspec": {
   "display_name": "Python 3",
   "language": "python",
   "name": "python3"
  },
  "language_info": {
   "codemirror_mode": {
    "name": "ipython",
    "version": 2
   },
   "file_extension": ".py",
   "mimetype": "text/x-python",
   "name": "python",
   "nbconvert_exporter": "python",
   "pygments_lexer": "ipython2",
   "version": "2.7.6"
  }
 },
 "nbformat": 4,
 "nbformat_minor": 0
}
