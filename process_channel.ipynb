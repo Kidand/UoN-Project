{
 "cells": [
  {
   "cell_type": "code",
   "execution_count": 1,
   "metadata": {
    "collapsed": true,
    "ExecuteTime": {
     "end_time": "2023-09-08T22:21:52.438595Z",
     "start_time": "2023-09-08T22:21:52.288681Z"
    }
   },
   "outputs": [],
   "source": [
    "import os\n",
    "import numpy as np\n",
    "import nibabel as nib\n",
    "\n",
    "def generate_third_channel(dataset_folder):\n",
    "    # 获取数据集文件夹中的所有文件\n",
    "    all_files = os.listdir(dataset_folder)\n",
    "\n",
    "    # 筛选出第一个和第二个通道的文件\n",
    "    first_channel_files = sorted([f for f in all_files if '_0000.nii.gz' in f])\n",
    "    second_channel_files = sorted([f for f in all_files if '_0001.nii.gz' in f])\n",
    "\n",
    "    # 确保两个通道的文件数量相同\n",
    "    assert len(first_channel_files) == len(second_channel_files), \"Mismatch in number of files for each channel.\"\n",
    "\n",
    "    for first_file, second_file in zip(first_channel_files, second_channel_files):\n",
    "        # 加载两个通道的图像数据\n",
    "        first_channel_data = nib.load(os.path.join(dataset_folder, first_file)).get_fdata()\n",
    "        second_channel_data = nib.load(os.path.join(dataset_folder, second_file)).get_fdata()\n",
    "\n",
    "        # 计算两个通道的平均值以模拟第三个通道\n",
    "        simulated_channel = (first_channel_data + second_channel_data) / 2\n",
    "\n",
    "        # 创建一个新的NIfTI图像\n",
    "        new_img = nib.Nifti1Image(simulated_channel, np.eye(4))\n",
    "\n",
    "        # 生成第三个通道的文件名\n",
    "        third_channel_file = first_file.replace('_0000', '_0002')\n",
    "\n",
    "        # 保存新生成的第三个通道的图像\n",
    "        nib.save(new_img, os.path.join(dataset_folder, third_channel_file))"
   ]
  },
  {
   "cell_type": "code",
   "execution_count": 2,
   "outputs": [],
   "source": [
    "dataset_folder = '/Volumes/T7/ZHT/imagesTs'  # 替换为你的数据集文件夹路径\n",
    "generate_third_channel(dataset_folder)"
   ],
   "metadata": {
    "collapsed": false,
    "ExecuteTime": {
     "end_time": "2023-09-08T22:22:43.245040Z",
     "start_time": "2023-09-08T22:22:40.664399Z"
    }
   }
  },
  {
   "cell_type": "code",
   "execution_count": 8,
   "outputs": [],
   "source": [
    "import os\n",
    "import numpy as np\n",
    "import nibabel as nib\n",
    "\n",
    "def generate_third_channel_3D(dataset_folder):\n",
    "    all_files = os.listdir(dataset_folder)\n",
    "    first_channel_files = sorted([f for f in all_files if '_0000.nii.gz' in f])\n",
    "    second_channel_files = sorted([f for f in all_files if '_0001.nii.gz' in f])\n",
    "\n",
    "    assert len(first_channel_files) == len(second_channel_files), \"Mismatch in number of files for each channel.\"\n",
    "\n",
    "    for first_file, second_file in zip(first_channel_files, second_channel_files):\n",
    "        first_img = nib.load(os.path.join(dataset_folder, first_file))\n",
    "        second_img = nib.load(os.path.join(dataset_folder, second_file))\n",
    "\n",
    "        first_channel_data = first_img.get_fdata()\n",
    "        second_channel_data = second_img.get_fdata()\n",
    "\n",
    "        simulated_channel = (first_channel_data + second_channel_data) / 2\n",
    "\n",
    "        # 创建一个新的NIfTI图像，使用与原始图像相同的affine矩阵和头信息\n",
    "        new_img = nib.Nifti1Image(simulated_channel, first_img.affine, header=first_img.header)\n",
    "\n",
    "        third_channel_file = first_file.replace('_0000', '_0002')\n",
    "\n",
    "        nib.save(new_img, os.path.join(dataset_folder, third_channel_file))"
   ],
   "metadata": {
    "collapsed": false,
    "ExecuteTime": {
     "end_time": "2023-09-08T22:37:29.878406Z",
     "start_time": "2023-09-08T22:37:29.872074Z"
    }
   }
  },
  {
   "cell_type": "code",
   "execution_count": 9,
   "outputs": [],
   "source": [
    "dataset_folder = '/Volumes/T7/ZHT/imagesTs'  # 替换为你的数据集文件夹路径\n",
    "generate_third_channel_3D(dataset_folder)"
   ],
   "metadata": {
    "collapsed": false,
    "ExecuteTime": {
     "end_time": "2023-09-08T22:37:32.557604Z",
     "start_time": "2023-09-08T22:37:30.357451Z"
    }
   }
  },
  {
   "cell_type": "code",
   "execution_count": null,
   "outputs": [],
   "source": [],
   "metadata": {
    "collapsed": false
   }
  }
 ],
 "metadata": {
  "kernelspec": {
   "display_name": "Python 3",
   "language": "python",
   "name": "python3"
  },
  "language_info": {
   "codemirror_mode": {
    "name": "ipython",
    "version": 2
   },
   "file_extension": ".py",
   "mimetype": "text/x-python",
   "name": "python",
   "nbconvert_exporter": "python",
   "pygments_lexer": "ipython2",
   "version": "2.7.6"
  }
 },
 "nbformat": 4,
 "nbformat_minor": 0
}
