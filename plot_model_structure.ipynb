{
 "cells": [
  {
   "cell_type": "code",
   "execution_count": 2,
   "metadata": {
    "collapsed": true,
    "ExecuteTime": {
     "end_time": "2023-09-03T19:31:53.988771Z",
     "start_time": "2023-09-03T19:31:53.890327Z"
    }
   },
   "outputs": [
    {
     "ename": "ValueError",
     "evalue": "`model` input param must be a PyTorch, TensorFlow, or Keras-with-TensorFlow-backend model.",
     "output_type": "error",
     "traceback": [
      "\u001B[0;31m---------------------------------------------------------------------------\u001B[0m",
      "\u001B[0;31mValueError\u001B[0m                                Traceback (most recent call last)",
      "Cell \u001B[0;32mIn[2], line 8\u001B[0m\n\u001B[1;32m      5\u001B[0m model \u001B[38;5;241m=\u001B[39m torch\u001B[38;5;241m.\u001B[39mload(\u001B[38;5;124m'\u001B[39m\u001B[38;5;124m./model/checkpoint_best.pth\u001B[39m\u001B[38;5;124m'\u001B[39m, map_location\u001B[38;5;241m=\u001B[39m\u001B[38;5;124m'\u001B[39m\u001B[38;5;124mcpu\u001B[39m\u001B[38;5;124m'\u001B[39m)\n\u001B[1;32m      7\u001B[0m \u001B[38;5;66;03m# 构建网络结构图\u001B[39;00m\n\u001B[0;32m----> 8\u001B[0m graph \u001B[38;5;241m=\u001B[39m \u001B[43mhl\u001B[49m\u001B[38;5;241;43m.\u001B[39;49m\u001B[43mbuild_graph\u001B[49m\u001B[43m(\u001B[49m\u001B[43mmodel\u001B[49m\u001B[43m,\u001B[49m\u001B[43m \u001B[49m\u001B[43mtorch\u001B[49m\u001B[38;5;241;43m.\u001B[39;49m\u001B[43mzeros\u001B[49m\u001B[43m(\u001B[49m\u001B[43m[\u001B[49m\u001B[38;5;241;43m1\u001B[39;49m\u001B[43m,\u001B[49m\u001B[43m \u001B[49m\u001B[38;5;241;43m3\u001B[39;49m\u001B[43m,\u001B[49m\u001B[43m \u001B[49m\u001B[38;5;241;43m224\u001B[39;49m\u001B[43m,\u001B[49m\u001B[43m \u001B[49m\u001B[38;5;241;43m224\u001B[39;49m\u001B[43m]\u001B[49m\u001B[43m)\u001B[49m\u001B[43m)\u001B[49m\n\u001B[1;32m     10\u001B[0m \u001B[38;5;66;03m# 显示网络结构图\u001B[39;00m\n\u001B[1;32m     11\u001B[0m graph\u001B[38;5;241m.\u001B[39mtheme \u001B[38;5;241m=\u001B[39m hl\u001B[38;5;241m.\u001B[39mgraph\u001B[38;5;241m.\u001B[39mTHEMES[\u001B[38;5;124m\"\u001B[39m\u001B[38;5;124mblue\u001B[39m\u001B[38;5;124m\"\u001B[39m]\u001B[38;5;241m.\u001B[39mcopy()\n",
      "File \u001B[0;32m~/opt/anaconda3/envs/nnunet_env/lib/python3.9/site-packages/hiddenlayer/graph.py:148\u001B[0m, in \u001B[0;36mbuild_graph\u001B[0;34m(model, args, input_names, transforms, framework_transforms)\u001B[0m\n\u001B[1;32m    146\u001B[0m     import_graph(g, model)\n\u001B[1;32m    147\u001B[0m \u001B[38;5;28;01melse\u001B[39;00m:\n\u001B[0;32m--> 148\u001B[0m     \u001B[38;5;28;01mraise\u001B[39;00m \u001B[38;5;167;01mValueError\u001B[39;00m(\u001B[38;5;124m\"\u001B[39m\u001B[38;5;124m`model` input param must be a PyTorch, TensorFlow, or Keras-with-TensorFlow-backend model.\u001B[39m\u001B[38;5;124m\"\u001B[39m) \n\u001B[1;32m    150\u001B[0m \u001B[38;5;66;03m# Apply Transforms\u001B[39;00m\n\u001B[1;32m    151\u001B[0m \u001B[38;5;28;01mif\u001B[39;00m framework_transforms:\n",
      "\u001B[0;31mValueError\u001B[0m: `model` input param must be a PyTorch, TensorFlow, or Keras-with-TensorFlow-backend model."
     ]
    }
   ],
   "source": [
    "import torch\n",
    "import hiddenlayer as hl\n",
    "\n",
    "# 加载模型\n",
    "model = torch.load('./model/checkpoint_best.pth', map_location='cpu')\n",
    "\n",
    "# 构建网络结构图\n",
    "graph = hl.build_graph(model, torch.zeros([1, 3, 224, 224]))\n",
    "\n",
    "# 显示网络结构图\n",
    "graph.theme = hl.graph.THEMES[\"blue\"].copy()\n",
    "graph.save('./model/test1', format='png')"
   ]
  },
  {
   "cell_type": "code",
   "execution_count": null,
   "outputs": [],
   "source": [],
   "metadata": {
    "collapsed": false
   }
  }
 ],
 "metadata": {
  "kernelspec": {
   "display_name": "Python 3",
   "language": "python",
   "name": "python3"
  },
  "language_info": {
   "codemirror_mode": {
    "name": "ipython",
    "version": 2
   },
   "file_extension": ".py",
   "mimetype": "text/x-python",
   "name": "python",
   "nbconvert_exporter": "python",
   "pygments_lexer": "ipython2",
   "version": "2.7.6"
  }
 },
 "nbformat": 4,
 "nbformat_minor": 0
}
