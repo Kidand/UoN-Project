{
 "cells": [
  {
   "cell_type": "markdown",
   "source": [
    "# process public data"
   ],
   "metadata": {
    "collapsed": false
   }
  },
  {
   "cell_type": "code",
   "execution_count": 1,
   "outputs": [],
   "source": [
    "import os\n",
    "import nibabel as nib\n",
    "\n",
    "def process_masks(mask_dir):\n",
    "    \"\"\"\n",
    "    Process .nii.gz masks in the given directory to retain only the duodenum label and set its value to 1.\n",
    "\n",
    "    Parameters:\n",
    "    - mask_dir (str): Directory containing the .nii.gz mask files.\n",
    "    \"\"\"\n",
    "\n",
    "    # List all files in the directory\n",
    "    files = [f for f in os.listdir(mask_dir) if f.endswith('.nii.gz')]\n",
    "\n",
    "    for file in files:\n",
    "        file_path = os.path.join(mask_dir, file)\n",
    "\n",
    "        # Load the mask using nibabel\n",
    "        mask = nib.load(file_path)\n",
    "        mask_data = mask.get_fdata()\n",
    "\n",
    "        # Set all values to 0 except for duodenum (label 13)\n",
    "        mask_data[mask_data != 13] = 0\n",
    "        mask_data[mask_data == 13] = 1\n",
    "\n",
    "        # Save the processed mask back to the file\n",
    "        new_mask = nib.Nifti1Image(mask_data, mask.affine)\n",
    "        nib.save(new_mask, file_path)"
   ],
   "metadata": {
    "collapsed": false,
    "ExecuteTime": {
     "end_time": "2023-09-07T00:29:00.252777Z",
     "start_time": "2023-09-07T00:29:00.136428Z"
    }
   }
  },
  {
   "cell_type": "code",
   "execution_count": 2,
   "outputs": [],
   "source": [
    "# Call the function\n",
    "process_masks('./dataset_public/labelsTr')"
   ],
   "metadata": {
    "collapsed": false,
    "ExecuteTime": {
     "end_time": "2023-09-07T00:29:35.320890Z",
     "start_time": "2023-09-07T00:29:12.132205Z"
    }
   }
  },
  {
   "cell_type": "code",
   "execution_count": 5,
   "outputs": [],
   "source": [
    "import os\n",
    "\n",
    "def rename_files(data_dir):\n",
    "    \"\"\"\n",
    "    Rename .nii.gz files in the given directory by adding a _0000 suffix to the filename.\n",
    "\n",
    "    Parameters:\n",
    "    - data_dir (str): Directory containing the .nii.gz files.\n",
    "    \"\"\"\n",
    "\n",
    "    # List all files in the directory\n",
    "    files = [f for f in os.listdir(data_dir) if f.endswith('.nii.gz')]\n",
    "\n",
    "    for file in files:\n",
    "        # Split the filename and extension\n",
    "        base_name = file[:-7]  # remove .nii.gz from the end\n",
    "\n",
    "        # Create the new filename\n",
    "        new_name = base_name + \"_0000.nii.gz\"\n",
    "\n",
    "        # Rename the file\n",
    "        os.rename(os.path.join(data_dir, file), os.path.join(data_dir, new_name))"
   ],
   "metadata": {
    "collapsed": false,
    "ExecuteTime": {
     "end_time": "2023-09-07T00:59:49.596975Z",
     "start_time": "2023-09-07T00:59:49.592034Z"
    }
   }
  },
  {
   "cell_type": "code",
   "execution_count": 6,
   "outputs": [],
   "source": [
    "# Call the function\n",
    "rename_files('./dataset_public/imagesTr')"
   ],
   "metadata": {
    "collapsed": false,
    "ExecuteTime": {
     "end_time": "2023-09-07T01:00:29.349706Z",
     "start_time": "2023-09-07T01:00:29.340738Z"
    }
   }
  },
  {
   "cell_type": "code",
   "execution_count": null,
   "outputs": [],
   "source": [],
   "metadata": {
    "collapsed": false
   }
  }
 ],
 "metadata": {
  "kernelspec": {
   "display_name": "Python 3",
   "language": "python",
   "name": "python3"
  },
  "language_info": {
   "codemirror_mode": {
    "name": "ipython",
    "version": 2
   },
   "file_extension": ".py",
   "mimetype": "text/x-python",
   "name": "python",
   "nbconvert_exporter": "python",
   "pygments_lexer": "ipython2",
   "version": "2.7.6"
  }
 },
 "nbformat": 4,
 "nbformat_minor": 0
}
