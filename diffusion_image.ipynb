{
 "cells": [
  {
   "cell_type": "code",
   "execution_count": 28,
   "metadata": {
    "collapsed": true,
    "ExecuteTime": {
     "end_time": "2023-08-28T08:29:20.476172Z",
     "start_time": "2023-08-28T08:29:20.469188Z"
    }
   },
   "outputs": [],
   "source": [
    "from PIL import Image\n",
    "import numpy as np\n",
    "\n",
    "def diffuse_image(image_path, diffusion_coefficient, time_step):\n",
    "    # 打开图像并将其转换为灰度图像\n",
    "    image = Image.open(image_path).convert('L')\n",
    "    # 将图像转换为numpy数组\n",
    "    image_array = np.array(image)\n",
    "    # 获取图像的形状\n",
    "    shape = image_array.shape\n",
    "    # 创建一个新的数组来存储扩散后的图像\n",
    "    diffused_image = np.zeros(shape)\n",
    "    # 遍历图像中的每个像素\n",
    "    for i in range(shape[0]):\n",
    "        for j in range(shape[1]):\n",
    "            # 计算当前像素周围的像素值之和\n",
    "            sum_of_neighbors = 0\n",
    "            if i > 0:\n",
    "                sum_of_neighbors += image_array[i-1, j]\n",
    "            if i < shape[0]-1:\n",
    "                sum_of_neighbors += image_array[i+1, j]\n",
    "            if j > 0:\n",
    "                sum_of_neighbors += image_array[i, j-1]\n",
    "            if j < shape[1]-1:\n",
    "                sum_of_neighbors += image_array[i, j+1]\n",
    "            # 计算当前像素的扩散值\n",
    "            diffused_value = image_array[i, j] + diffusion_coefficient * time_step * (sum_of_neighbors - 4 * image_array[i, j])\n",
    "            # 将扩散值存储在新数组中\n",
    "            diffused_image[i, j] = diffused_value\n",
    "    # 将新数组转换为图像并返回\n",
    "    diffused_image = np.clip(diffused_image, 0, 255).astype(np.uint8)\n",
    "    return Image.fromarray(diffused_image, 'L')"
   ]
  },
  {
   "cell_type": "code",
   "execution_count": 66,
   "outputs": [],
   "source": [
    "diffused_image = diffuse_image('test/nii2png/8.png', 0.25, 10)\n",
    "diffused_image.show()\n",
    "diffused_image.save('test/nii2png/8_diffused.png')"
   ],
   "metadata": {
    "collapsed": false,
    "ExecuteTime": {
     "end_time": "2023-08-28T13:33:33.596584Z",
     "start_time": "2023-08-28T13:33:32.387139Z"
    }
   }
  },
  {
   "cell_type": "code",
   "execution_count": 56,
   "outputs": [],
   "source": [
    "from PIL import Image\n",
    "import numpy as np\n",
    "\n",
    "def denoise_image(image_path, diffusion_coefficient, time_step, iterations):\n",
    "    # 打开图像并将其转换为灰度图像\n",
    "    image = Image.open(image_path).convert('L')\n",
    "    # 将图像转换为numpy数组\n",
    "    image_array = np.array(image)\n",
    "    # 获取图像的形状\n",
    "    shape = image_array.shape\n",
    "    # 创建一个新的数组来存储去噪后的图像\n",
    "    denoised_image = np.copy(image_array)\n",
    "    # 迭代进行去噪处理\n",
    "    for _ in range(iterations):\n",
    "        # 遍历图像中的每个像素\n",
    "        for i in range(shape[0]):\n",
    "            for j in range(shape[1]):\n",
    "                # 计算当前像素周围的像素值之和\n",
    "                sum_of_neighbors = 0\n",
    "                if i > 0:\n",
    "                    sum_of_neighbors += denoised_image[i-1, j]\n",
    "                if i < shape[0]-1:\n",
    "                    sum_of_neighbors += denoised_image[i+1, j]\n",
    "                if j > 0:\n",
    "                    sum_of_neighbors += denoised_image[i, j-1]\n",
    "                if j < shape[1]-1:\n",
    "                    sum_of_neighbors += denoised_image[i, j+1]\n",
    "                # 计算当前像素的扩散值\n",
    "                diffused_value = denoised_image[i, j] + diffusion_coefficient * time_step * (sum_of_neighbors - 4 * denoised_image[i, j])\n",
    "                # 将扩散值存储在新数组中\n",
    "                denoised_image[i, j] = diffused_value\n",
    "    # 将新数组转换为图像并返回\n",
    "    return Image.fromarray(denoised_image)"
   ],
   "metadata": {
    "collapsed": false,
    "ExecuteTime": {
     "end_time": "2023-08-28T12:48:01.170542Z",
     "start_time": "2023-08-28T12:48:01.166823Z"
    }
   }
  },
  {
   "cell_type": "code",
   "execution_count": 76,
   "outputs": [],
   "source": [
    "denoised_image = denoise_image('test/nii2png/8.png', 0.25, 1, 5)\n",
    "denoised_image.show()\n",
    "denoised_image.save('test/nii2png/8_denoised.png')"
   ],
   "metadata": {
    "collapsed": false,
    "ExecuteTime": {
     "end_time": "2023-08-28T13:37:35.295264Z",
     "start_time": "2023-08-28T13:37:31.381651Z"
    }
   }
  },
  {
   "cell_type": "code",
   "execution_count": 42,
   "outputs": [],
   "source": [
    "def nonlinear_diffusion(image_array, diffusion_coefficient, time_step, kappa):\n",
    "    shape = image_array.shape\n",
    "    diffused_image = np.copy(image_array)\n",
    "\n",
    "    for i in range(shape[0]):\n",
    "        for j in range(shape[1]):\n",
    "            sum_of_neighbors = 0\n",
    "\n",
    "            if i > 0:\n",
    "                grad_n = abs(image_array[i, j] - image_array[i-1, j])\n",
    "                c_n = np.exp(-(grad_n/kappa)**2)\n",
    "                sum_of_neighbors += c_n * image_array[i-1, j]\n",
    "\n",
    "            if i < shape[0]-1:\n",
    "                grad_s = abs(image_array[i, j] - image_array[i+1, j])\n",
    "                c_s = np.exp(-(grad_s/kappa)**2)\n",
    "                sum_of_neighbors += c_s * image_array[i+1, j]\n",
    "\n",
    "            if j > 0:\n",
    "                grad_w = abs(image_array[i, j] - image_array[i, j-1])\n",
    "                c_w = np.exp(-(grad_w/kappa)**2)\n",
    "                sum_of_neighbors += c_w * image_array[i, j-1]\n",
    "\n",
    "            if j < shape[1]-1:\n",
    "                grad_e = abs(image_array[i, j] - image_array[i, j+1])\n",
    "                c_e = np.exp(-(grad_e/kappa)**2)\n",
    "                sum_of_neighbors += c_e * image_array[i, j+1]\n",
    "\n",
    "            diffused_value = image_array[i, j] + diffusion_coefficient * time_step * (sum_of_neighbors - 4 * image_array[i, j])\n",
    "            diffused_image[i, j] = diffused_value\n",
    "\n",
    "    return np.clip(diffused_image, 0, 255).astype(np.uint8)\n",
    "\n",
    "# 使用非线性扩散函数替换原来的扩散函数\n",
    "def denoise_image(image_path, diffusion_coefficient, time_step, iterations, kappa):\n",
    "    image = Image.open(image_path).convert('L')\n",
    "    image_array = np.array(image)\n",
    "    denoised_image = np.copy(image_array)\n",
    "\n",
    "    for _ in range(iterations):\n",
    "        denoised_image = nonlinear_diffusion(denoised_image, diffusion_coefficient, time_step, kappa)\n",
    "\n",
    "    return Image.fromarray(denoised_image, 'L')\n"
   ],
   "metadata": {
    "collapsed": false,
    "ExecuteTime": {
     "end_time": "2023-08-28T09:47:12.168935Z",
     "start_time": "2023-08-28T09:47:12.162354Z"
    }
   }
  },
  {
   "cell_type": "code",
   "execution_count": 48,
   "outputs": [],
   "source": [
    "diffused_image = diffuse_image('test/nii2png/11.png', 0.25, 10)\n",
    "diffused_image.show()\n",
    "diffused_image.save('test/nii2png/11_diffused.png')"
   ],
   "metadata": {
    "collapsed": false,
    "ExecuteTime": {
     "end_time": "2023-08-28T12:43:53.603331Z",
     "start_time": "2023-08-28T12:43:52.713565Z"
    }
   }
  },
  {
   "cell_type": "code",
   "execution_count": 54,
   "outputs": [
    {
     "name": "stderr",
     "output_type": "stream",
     "text": [
      "/var/folders/n_/54212b493pd645vds1j7659c0000gn/T/ipykernel_25092/902279668.py:15: RuntimeWarning: overflow encountered in scalar subtract\n",
      "  grad_s = abs(image_array[i, j] - image_array[i+1, j])\n",
      "/var/folders/n_/54212b493pd645vds1j7659c0000gn/T/ipykernel_25092/902279668.py:25: RuntimeWarning: overflow encountered in scalar subtract\n",
      "  grad_e = abs(image_array[i, j] - image_array[i, j+1])\n",
      "/var/folders/n_/54212b493pd645vds1j7659c0000gn/T/ipykernel_25092/902279668.py:20: RuntimeWarning: overflow encountered in scalar subtract\n",
      "  grad_w = abs(image_array[i, j] - image_array[i, j-1])\n",
      "/var/folders/n_/54212b493pd645vds1j7659c0000gn/T/ipykernel_25092/902279668.py:10: RuntimeWarning: overflow encountered in scalar subtract\n",
      "  grad_n = abs(image_array[i, j] - image_array[i-1, j])\n"
     ]
    }
   ],
   "source": [
    "denoised_image = denoise_image('test/nii2png/11_diffused.png', 0.5, 1, 10, 1)\n",
    "denoised_image.show()\n",
    "denoised_image.save('test/nii2png/11_denoised.png')"
   ],
   "metadata": {
    "collapsed": false,
    "ExecuteTime": {
     "end_time": "2023-08-28T12:47:37.325856Z",
     "start_time": "2023-08-28T12:47:14.662270Z"
    }
   }
  },
  {
   "cell_type": "code",
   "execution_count": null,
   "outputs": [],
   "source": [],
   "metadata": {
    "collapsed": false
   }
  }
 ],
 "metadata": {
  "kernelspec": {
   "display_name": "Python 3",
   "language": "python",
   "name": "python3"
  },
  "language_info": {
   "codemirror_mode": {
    "name": "ipython",
    "version": 2
   },
   "file_extension": ".py",
   "mimetype": "text/x-python",
   "name": "python",
   "nbconvert_exporter": "python",
   "pygments_lexer": "ipython2",
   "version": "2.7.6"
  }
 },
 "nbformat": 4,
 "nbformat_minor": 0
}
